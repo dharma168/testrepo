{
 "cells": [
  {
   "cell_type": "markdown",
   "metadata": {},
   "source": [
    "<p style=\"text-align:center\">\n",
    "    <a href=\"https://skills.network/?utm_medium=Exinfluencer&utm_source=Exinfluencer&utm_content=000026UJ&utm_term=10006555&utm_id=NA-SkillsNetwork-Channel-SkillsNetworkCoursesIBMDA0321ENSkillsNetwork928-2022-01-01\" target=\"_blank\">\n",
    "    <img src=\"https://cf-courses-data.s3.us.cloud-object-storage.appdomain.cloud/assets/logos/SN_web_lightmode.png\" width=\"200\" alt=\"Skills Network Logo\"  />\n",
    "    </a>\n",
    "</p>\n"
   ]
  },
  {
   "cell_type": "markdown",
   "metadata": {},
   "source": [
    "# **Data Wrangling Lab**\n"
   ]
  },
  {
   "cell_type": "markdown",
   "metadata": {},
   "source": [
    "Estimated time needed: **45 to 60** minutes\n"
   ]
  },
  {
   "cell_type": "markdown",
   "metadata": {},
   "source": [
    "In this assignment you will be performing data wrangling.\n"
   ]
  },
  {
   "cell_type": "markdown",
   "metadata": {},
   "source": [
    "## Objectives\n"
   ]
  },
  {
   "cell_type": "markdown",
   "metadata": {},
   "source": [
    "In this lab you will perform the following:\n"
   ]
  },
  {
   "cell_type": "markdown",
   "metadata": {},
   "source": [
    "-   Identify duplicate values in the dataset.\n",
    "\n",
    "-   Remove duplicate values from the dataset.\n",
    "\n",
    "-   Identify missing values in the dataset.\n",
    "\n",
    "-   Impute the missing values in the dataset.\n",
    "\n",
    "-   Normalize data in the dataset.\n"
   ]
  },
  {
   "cell_type": "markdown",
   "metadata": {},
   "source": [
    "<hr>\n"
   ]
  },
  {
   "cell_type": "markdown",
   "metadata": {},
   "source": [
    "## Hands on Lab\n"
   ]
  },
  {
   "cell_type": "markdown",
   "metadata": {},
   "source": [
    "Import pandas module.\n"
   ]
  },
  {
   "cell_type": "code",
   "execution_count": 1,
   "metadata": {
    "tags": []
   },
   "outputs": [],
   "source": [
    "import pandas as pd"
   ]
  },
  {
   "cell_type": "markdown",
   "metadata": {},
   "source": [
    "Load the dataset into a dataframe.\n"
   ]
  },
  {
   "cell_type": "code",
   "execution_count": 2,
   "metadata": {
    "tags": []
   },
   "outputs": [],
   "source": [
    "df = pd.read_csv(\"https://cf-courses-data.s3.us.cloud-object-storage.appdomain.cloud/IBM-DA0321EN-SkillsNetwork/LargeData/m1_survey_data.csv\")"
   ]
  },
  {
   "cell_type": "markdown",
   "metadata": {},
   "source": [
    "## Finding duplicates\n"
   ]
  },
  {
   "cell_type": "markdown",
   "metadata": {},
   "source": [
    "In this section you will identify duplicate values in the dataset.\n"
   ]
  },
  {
   "cell_type": "markdown",
   "metadata": {},
   "source": [
    " Find how many duplicate rows exist in the dataframe.\n"
   ]
  },
  {
   "cell_type": "code",
   "execution_count": 5,
   "metadata": {
    "tags": []
   },
   "outputs": [
    {
     "name": "stdout",
     "output_type": "stream",
     "text": [
      "      Respondent                                         MainBranch Hobbyist  \\\n",
      "1168        2339                     I am a developer by profession      Yes   \n",
      "1169        2342                     I am a developer by profession      Yes   \n",
      "1170        2343                     I am a developer by profession      Yes   \n",
      "1171        2344                     I am a developer by profession      Yes   \n",
      "1172        2347                     I am a developer by profession      Yes   \n",
      "...          ...                                                ...      ...   \n",
      "2297        4674  I am not primarily a developer, but I write co...      Yes   \n",
      "2298        4675                     I am a developer by profession      Yes   \n",
      "2299        4676                     I am a developer by profession      Yes   \n",
      "2300        4677                     I am a developer by profession      Yes   \n",
      "2301        4679                     I am a developer by profession      Yes   \n",
      "\n",
      "                                            OpenSourcer  \\\n",
      "1168                         Once a month or more often   \n",
      "1169                                              Never   \n",
      "1170  Less than once a month but more than once per ...   \n",
      "1171                                              Never   \n",
      "1172                                              Never   \n",
      "...                                                 ...   \n",
      "2297                            Less than once per year   \n",
      "2298                                              Never   \n",
      "2299                                              Never   \n",
      "2300                         Once a month or more often   \n",
      "2301  Less than once a month but more than once per ...   \n",
      "\n",
      "                                             OpenSource          Employment  \\\n",
      "1168  OSS is, on average, of HIGHER quality than pro...  Employed full-time   \n",
      "1169  The quality of OSS and closed source software ...  Employed full-time   \n",
      "1170  OSS is, on average, of LOWER quality than prop...  Employed full-time   \n",
      "1171  The quality of OSS and closed source software ...  Employed full-time   \n",
      "1172  OSS is, on average, of HIGHER quality than pro...  Employed full-time   \n",
      "...                                                 ...                 ...   \n",
      "2297  The quality of OSS and closed source software ...  Employed full-time   \n",
      "2298  OSS is, on average, of HIGHER quality than pro...  Employed full-time   \n",
      "2299  OSS is, on average, of HIGHER quality than pro...  Employed full-time   \n",
      "2300  OSS is, on average, of HIGHER quality than pro...  Employed full-time   \n",
      "2301  The quality of OSS and closed source software ...  Employed full-time   \n",
      "\n",
      "             Country Student  \\\n",
      "1168   United States      No   \n",
      "1169  United Kingdom      No   \n",
      "1170          Canada      No   \n",
      "1171   United States      No   \n",
      "1172  United Kingdom      No   \n",
      "...              ...     ...   \n",
      "2297      Bangladesh      No   \n",
      "2298   United States      No   \n",
      "2299         Finland      No   \n",
      "2300  United Kingdom      No   \n",
      "2301   United States      No   \n",
      "\n",
      "                                                EdLevel  \\\n",
      "1168  Some college/university study without earning ...   \n",
      "1169  Some college/university study without earning ...   \n",
      "1170        Master’s degree (MA, MS, M.Eng., MBA, etc.)   \n",
      "1171           Bachelor’s degree (BA, BS, B.Eng., etc.)   \n",
      "1172        Master’s degree (MA, MS, M.Eng., MBA, etc.)   \n",
      "...                                                 ...   \n",
      "2297           Bachelor’s degree (BA, BS, B.Eng., etc.)   \n",
      "2298           Bachelor’s degree (BA, BS, B.Eng., etc.)   \n",
      "2299        Master’s degree (MA, MS, M.Eng., MBA, etc.)   \n",
      "2300           Bachelor’s degree (BA, BS, B.Eng., etc.)   \n",
      "2301        Master’s degree (MA, MS, M.Eng., MBA, etc.)   \n",
      "\n",
      "                                         UndergradMajor  ...  \\\n",
      "1168  Computer science, computer engineering, or sof...  ...   \n",
      "1169  Information systems, information technology, o...  ...   \n",
      "1170  Computer science, computer engineering, or sof...  ...   \n",
      "1171  Computer science, computer engineering, or sof...  ...   \n",
      "1172  Computer science, computer engineering, or sof...  ...   \n",
      "...                                                 ...  ...   \n",
      "2297                                                NaN  ...   \n",
      "2298  Information systems, information technology, o...  ...   \n",
      "2299  Another engineering discipline (ex. civil, ele...  ...   \n",
      "2300  A natural science (ex. biology, chemistry, phy...  ...   \n",
      "2301  Computer science, computer engineering, or sof...  ...   \n",
      "\n",
      "                                 WelcomeChange  \\\n",
      "1168   Just as welcome now as I felt last year   \n",
      "1169  Somewhat more welcome now than last year   \n",
      "1170  Somewhat more welcome now than last year   \n",
      "1171   Just as welcome now as I felt last year   \n",
      "1172   Just as welcome now as I felt last year   \n",
      "...                                        ...   \n",
      "2297  Somewhat less welcome now than last year   \n",
      "2298   Just as welcome now as I felt last year   \n",
      "2299  Somewhat less welcome now than last year   \n",
      "2300   Just as welcome now as I felt last year   \n",
      "2301   Just as welcome now as I felt last year   \n",
      "\n",
      "                                           SONewContent   Age Gender Trans  \\\n",
      "1168                                                NaN  24.0    Man    No   \n",
      "1169  Tech meetups or events in your area;Courses on...  24.0    Man    No   \n",
      "1170  Tech articles written by other developers;Indu...  27.0    Man    No   \n",
      "1171  Tech articles written by other developers;Indu...  24.0    Man    No   \n",
      "1172                                                NaN   NaN  Woman    No   \n",
      "...                                                 ...   ...    ...   ...   \n",
      "2297  Tech articles written by other developers;Indu...  31.0    Man    No   \n",
      "2298                Tech meetups or events in your area  27.0    Man    No   \n",
      "2299                                                NaN  36.0    Man    No   \n",
      "2300                                                NaN  40.0    Man    No   \n",
      "2301                                                NaN  27.0    Man    No   \n",
      "\n",
      "                                            Sexuality  \\\n",
      "1168                          Straight / Heterosexual   \n",
      "1169                          Straight / Heterosexual   \n",
      "1170                          Straight / Heterosexual   \n",
      "1171                          Straight / Heterosexual   \n",
      "1172                          Straight / Heterosexual   \n",
      "...                                               ...   \n",
      "2297  Bisexual;Gay or Lesbian;Straight / Heterosexual   \n",
      "2298                          Straight / Heterosexual   \n",
      "2299                          Straight / Heterosexual   \n",
      "2300                          Straight / Heterosexual   \n",
      "2301                                              NaN   \n",
      "\n",
      "                                              Ethnicity Dependents  \\\n",
      "1168                       White or of European descent         No   \n",
      "1169                       White or of European descent         No   \n",
      "1170  Black or of African descent;White or of Europe...         No   \n",
      "1171                       White or of European descent         No   \n",
      "1172                                           Biracial         No   \n",
      "...                                                 ...        ...   \n",
      "2297  Black or of African descent;Hispanic or Latino...        Yes   \n",
      "2298                       White or of European descent         No   \n",
      "2299                       White or of European descent        Yes   \n",
      "2300                       White or of European descent        Yes   \n",
      "2301                       White or of European descent         No   \n",
      "\n",
      "               SurveyLength                  SurveyEase  \n",
      "1168  Appropriate in length                        Easy  \n",
      "1169               Too long                        Easy  \n",
      "1170  Appropriate in length  Neither easy nor difficult  \n",
      "1171  Appropriate in length                        Easy  \n",
      "1172               Too long                        Easy  \n",
      "...                     ...                         ...  \n",
      "2297               Too long  Neither easy nor difficult  \n",
      "2298  Appropriate in length                        Easy  \n",
      "2299               Too long                        Easy  \n",
      "2300  Appropriate in length                        Easy  \n",
      "2301  Appropriate in length                        Easy  \n",
      "\n",
      "[154 rows x 85 columns]\n"
     ]
    }
   ],
   "source": [
    "duplicate_rows = df[df.duplicated()]\n",
    "print(duplicate_rows)"
   ]
  },
  {
   "cell_type": "markdown",
   "metadata": {},
   "source": [
    "## Removing duplicates\n"
   ]
  },
  {
   "cell_type": "markdown",
   "metadata": {},
   "source": [
    "Remove the duplicate rows from the dataframe.\n"
   ]
  },
  {
   "cell_type": "code",
   "execution_count": 6,
   "metadata": {
    "tags": []
   },
   "outputs": [
    {
     "name": "stdout",
     "output_type": "stream",
     "text": [
      "       Respondent                      MainBranch Hobbyist  \\\n",
      "0               4  I am a developer by profession       No   \n",
      "1               9  I am a developer by profession      Yes   \n",
      "2              13  I am a developer by profession      Yes   \n",
      "3              16  I am a developer by profession      Yes   \n",
      "4              17  I am a developer by profession      Yes   \n",
      "...           ...                             ...      ...   \n",
      "11547       25136  I am a developer by profession      Yes   \n",
      "11548       25137  I am a developer by profession      Yes   \n",
      "11549       25138  I am a developer by profession      Yes   \n",
      "11550       25141  I am a developer by profession      Yes   \n",
      "11551       25142  I am a developer by profession      Yes   \n",
      "\n",
      "                                             OpenSourcer  \\\n",
      "0                                                  Never   \n",
      "1                             Once a month or more often   \n",
      "2      Less than once a month but more than once per ...   \n",
      "3                                                  Never   \n",
      "4      Less than once a month but more than once per ...   \n",
      "...                                                  ...   \n",
      "11547                                              Never   \n",
      "11548                                              Never   \n",
      "11549                            Less than once per year   \n",
      "11550  Less than once a month but more than once per ...   \n",
      "11551  Less than once a month but more than once per ...   \n",
      "\n",
      "                                              OpenSource          Employment  \\\n",
      "0      The quality of OSS and closed source software ...  Employed full-time   \n",
      "1      The quality of OSS and closed source software ...  Employed full-time   \n",
      "2      OSS is, on average, of HIGHER quality than pro...  Employed full-time   \n",
      "3      The quality of OSS and closed source software ...  Employed full-time   \n",
      "4      The quality of OSS and closed source software ...  Employed full-time   \n",
      "...                                                  ...                 ...   \n",
      "11547  OSS is, on average, of HIGHER quality than pro...  Employed full-time   \n",
      "11548  The quality of OSS and closed source software ...  Employed full-time   \n",
      "11549  The quality of OSS and closed source software ...  Employed full-time   \n",
      "11550  OSS is, on average, of LOWER quality than prop...  Employed full-time   \n",
      "11551  OSS is, on average, of HIGHER quality than pro...  Employed full-time   \n",
      "\n",
      "              Country Student  \\\n",
      "0       United States      No   \n",
      "1         New Zealand      No   \n",
      "2       United States      No   \n",
      "3      United Kingdom      No   \n",
      "4           Australia      No   \n",
      "...               ...     ...   \n",
      "11547   United States      No   \n",
      "11548          Poland      No   \n",
      "11549   United States      No   \n",
      "11550     Switzerland      No   \n",
      "11551  United Kingdom      No   \n",
      "\n",
      "                                                 EdLevel  \\\n",
      "0               Bachelor’s degree (BA, BS, B.Eng., etc.)   \n",
      "1      Some college/university study without earning ...   \n",
      "2            Master’s degree (MA, MS, M.Eng., MBA, etc.)   \n",
      "3            Master’s degree (MA, MS, M.Eng., MBA, etc.)   \n",
      "4               Bachelor’s degree (BA, BS, B.Eng., etc.)   \n",
      "...                                                  ...   \n",
      "11547        Master’s degree (MA, MS, M.Eng., MBA, etc.)   \n",
      "11548        Master’s degree (MA, MS, M.Eng., MBA, etc.)   \n",
      "11549        Master’s degree (MA, MS, M.Eng., MBA, etc.)   \n",
      "11550  Secondary school (e.g. American high school, G...   \n",
      "11551          Other doctoral degree (Ph.D, Ed.D., etc.)   \n",
      "\n",
      "                                          UndergradMajor  ...  \\\n",
      "0      Computer science, computer engineering, or sof...  ...   \n",
      "1      Computer science, computer engineering, or sof...  ...   \n",
      "2      Computer science, computer engineering, or sof...  ...   \n",
      "3                                                    NaN  ...   \n",
      "4      Computer science, computer engineering, or sof...  ...   \n",
      "...                                                  ...  ...   \n",
      "11547  Computer science, computer engineering, or sof...  ...   \n",
      "11548  Computer science, computer engineering, or sof...  ...   \n",
      "11549  Computer science, computer engineering, or sof...  ...   \n",
      "11550                                                NaN  ...   \n",
      "11551  A natural science (ex. biology, chemistry, phy...  ...   \n",
      "\n",
      "                                  WelcomeChange  \\\n",
      "0       Just as welcome now as I felt last year   \n",
      "1       Just as welcome now as I felt last year   \n",
      "2      Somewhat more welcome now than last year   \n",
      "3       Just as welcome now as I felt last year   \n",
      "4       Just as welcome now as I felt last year   \n",
      "...                                         ...   \n",
      "11547   Just as welcome now as I felt last year   \n",
      "11548     A lot more welcome now than last year   \n",
      "11549     A lot more welcome now than last year   \n",
      "11550  Somewhat less welcome now than last year   \n",
      "11551   Just as welcome now as I felt last year   \n",
      "\n",
      "                                            SONewContent   Age Gender Trans  \\\n",
      "0      Tech articles written by other developers;Indu...  22.0    Man    No   \n",
      "1                                                    NaN  23.0    Man    No   \n",
      "2      Tech articles written by other developers;Cour...  28.0    Man    No   \n",
      "3      Tech articles written by other developers;Indu...  26.0    Man    No   \n",
      "4      Tech articles written by other developers;Indu...  29.0    Man    No   \n",
      "...                                                  ...   ...    ...   ...   \n",
      "11547  Tech articles written by other developers;Cour...  36.0    Man    No   \n",
      "11548  Tech articles written by other developers;Tech...  25.0    Man    No   \n",
      "11549  Tech articles written by other developers;Indu...  34.0    Man    No   \n",
      "11550                                                NaN  25.0    Man    No   \n",
      "11551  Tech articles written by other developers;Tech...  30.0    Man    No   \n",
      "\n",
      "                     Sexuality                              Ethnicity  \\\n",
      "0      Straight / Heterosexual           White or of European descent   \n",
      "1                     Bisexual           White or of European descent   \n",
      "2      Straight / Heterosexual           White or of European descent   \n",
      "3      Straight / Heterosexual           White or of European descent   \n",
      "4      Straight / Heterosexual  Hispanic or Latino/Latina;Multiracial   \n",
      "...                        ...                                    ...   \n",
      "11547  Straight / Heterosexual           White or of European descent   \n",
      "11548  Straight / Heterosexual           White or of European descent   \n",
      "11549  Straight / Heterosexual           White or of European descent   \n",
      "11550  Straight / Heterosexual           White or of European descent   \n",
      "11551                 Bisexual           White or of European descent   \n",
      "\n",
      "      Dependents           SurveyLength                  SurveyEase  \n",
      "0             No  Appropriate in length                        Easy  \n",
      "1             No  Appropriate in length  Neither easy nor difficult  \n",
      "2            Yes  Appropriate in length                        Easy  \n",
      "3             No  Appropriate in length  Neither easy nor difficult  \n",
      "4             No  Appropriate in length                        Easy  \n",
      "...          ...                    ...                         ...  \n",
      "11547         No  Appropriate in length                   Difficult  \n",
      "11548         No  Appropriate in length  Neither easy nor difficult  \n",
      "11549        Yes               Too long                        Easy  \n",
      "11550         No  Appropriate in length                        Easy  \n",
      "11551         No  Appropriate in length                        Easy  \n",
      "\n",
      "[11398 rows x 85 columns]\n"
     ]
    }
   ],
   "source": [
    "df_no_duplicates = df.drop_duplicates()\n",
    "print(df_no_duplicates)\n"
   ]
  },
  {
   "cell_type": "markdown",
   "metadata": {},
   "source": [
    "Verify if duplicates were actually dropped.\n"
   ]
  },
  {
   "cell_type": "code",
   "execution_count": 9,
   "metadata": {
    "tags": []
   },
   "outputs": [
    {
     "name": "stdout",
     "output_type": "stream",
     "text": [
      "\n",
      "Duplicates were successfully dropped.\n",
      "\n",
      "Remaining duplicates after drop:\n"
     ]
    }
   ],
   "source": [
    "if len(df) == len(df_no_duplicates):\n",
    "    print(\"\\nNo duplicates were found.\")\n",
    "else:\n",
    "    print(\"\\nDuplicates were successfully dropped.\")\n",
    "print(\"\\nRemaining duplicates after drop:\")"
   ]
  },
  {
   "cell_type": "markdown",
   "metadata": {},
   "source": [
    "## Finding Missing values\n"
   ]
  },
  {
   "cell_type": "markdown",
   "metadata": {},
   "source": [
    "Find the missing values for all columns.\n"
   ]
  },
  {
   "cell_type": "code",
   "execution_count": 10,
   "metadata": {
    "tags": []
   },
   "outputs": [
    {
     "name": "stdout",
     "output_type": "stream",
     "text": [
      "Respondent        0\n",
      "MainBranch        0\n",
      "Hobbyist          0\n",
      "OpenSourcer       0\n",
      "OpenSource       81\n",
      "               ... \n",
      "Sexuality       547\n",
      "Ethnicity       683\n",
      "Dependents      144\n",
      "SurveyLength     19\n",
      "SurveyEase       14\n",
      "Length: 85, dtype: int64\n"
     ]
    }
   ],
   "source": [
    "missing_values = df.isnull().sum()\n",
    "print(missing_values)"
   ]
  },
  {
   "cell_type": "markdown",
   "metadata": {},
   "source": [
    "Find out how many rows are missing in the column 'WorkLoc'\n"
   ]
  },
  {
   "cell_type": "code",
   "execution_count": 15,
   "metadata": {
    "tags": []
   },
   "outputs": [
    {
     "name": "stdout",
     "output_type": "stream",
     "text": [
      "Number of Missing Values in 'WorkLoc' column: 32\n",
      "Number of Missing Values in 'EdLevel' column after removing duplicates: 112\n",
      "Number of Missing Values in 'Country' column after removing duplicates: 0\n"
     ]
    }
   ],
   "source": [
    "missing_workloc_count = df['WorkLoc'].isnull().sum()\n",
    "print(\"Number of Missing Values in 'WorkLoc' column:\", missing_workloc_count)\n",
    "missing_edlevel_count = df_no_duplicates['EdLevel'].isnull().sum()\n",
    "print(\"Number of Missing Values in 'EdLevel' column after removing duplicates:\", missing_edlevel_count)\n",
    "missing_Country_count = df_no_duplicates['Country'].isnull().sum()\n",
    "print(\"Number of Missing Values in 'Country' column after removing duplicates:\", missing_Country_count)"
   ]
  },
  {
   "cell_type": "markdown",
   "metadata": {},
   "source": [
    "## Imputing missing values\n"
   ]
  },
  {
   "cell_type": "markdown",
   "metadata": {},
   "source": [
    "Find the  value counts for the column WorkLoc.\n"
   ]
  },
  {
   "cell_type": "code",
   "execution_count": 17,
   "metadata": {
    "tags": []
   },
   "outputs": [
    {
     "name": "stdout",
     "output_type": "stream",
     "text": [
      "Office                                            6905\n",
      "Home                                              3638\n",
      "Other place, such as a coworking space or cafe     977\n",
      "Name: WorkLoc, dtype: int64\n"
     ]
    }
   ],
   "source": [
    "workloc_value_counts = df['WorkLoc'].value_counts()\n",
    "print(workloc_value_counts)\n"
   ]
  },
  {
   "cell_type": "markdown",
   "metadata": {},
   "source": [
    "Identify the value that is most frequent (majority) in the WorkLoc column.\n"
   ]
  },
  {
   "cell_type": "code",
   "execution_count": 21,
   "metadata": {
    "tags": []
   },
   "outputs": [
    {
     "name": "stdout",
     "output_type": "stream",
     "text": [
      "Most Frequent Value in 'WorkLoc' column: Office\n",
      "Most Frequent Value in 'Employment' column: Employed full-time\n",
      "Category with Minimum Rows in 'UndergradMajor' column: A health science (ex. nursing, pharmacy, radiology)\n"
     ]
    }
   ],
   "source": [
    "most_frequent_workloc = df['WorkLoc'].value_counts().idxmax()\n",
    "print(\"Most Frequent Value in 'WorkLoc' column:\", most_frequent_workloc)\n",
    "most_frequent_employment = df['Employment'].value_counts().idxmax()\n",
    "print(\"Most Frequent Value in 'Employment' column:\", most_frequent_employment)\n",
    "min_rows_category = df['UndergradMajor'].value_counts().idxmin()\n",
    "print(\"Category with Minimum Rows in 'UndergradMajor' column:\", min_rows_category)"
   ]
  },
  {
   "cell_type": "markdown",
   "metadata": {},
   "source": [
    "Impute (replace) all the empty rows in the column WorkLoc with the value that you have identified as majority.\n"
   ]
  },
  {
   "cell_type": "code",
   "execution_count": 19,
   "metadata": {
    "tags": []
   },
   "outputs": [
    {
     "name": "stdout",
     "output_type": "stream",
     "text": [
      "       Respondent                      MainBranch Hobbyist  \\\n",
      "0               4  I am a developer by profession       No   \n",
      "1               9  I am a developer by profession      Yes   \n",
      "2              13  I am a developer by profession      Yes   \n",
      "3              16  I am a developer by profession      Yes   \n",
      "4              17  I am a developer by profession      Yes   \n",
      "...           ...                             ...      ...   \n",
      "11547       25136  I am a developer by profession      Yes   \n",
      "11548       25137  I am a developer by profession      Yes   \n",
      "11549       25138  I am a developer by profession      Yes   \n",
      "11550       25141  I am a developer by profession      Yes   \n",
      "11551       25142  I am a developer by profession      Yes   \n",
      "\n",
      "                                             OpenSourcer  \\\n",
      "0                                                  Never   \n",
      "1                             Once a month or more often   \n",
      "2      Less than once a month but more than once per ...   \n",
      "3                                                  Never   \n",
      "4      Less than once a month but more than once per ...   \n",
      "...                                                  ...   \n",
      "11547                                              Never   \n",
      "11548                                              Never   \n",
      "11549                            Less than once per year   \n",
      "11550  Less than once a month but more than once per ...   \n",
      "11551  Less than once a month but more than once per ...   \n",
      "\n",
      "                                              OpenSource          Employment  \\\n",
      "0      The quality of OSS and closed source software ...  Employed full-time   \n",
      "1      The quality of OSS and closed source software ...  Employed full-time   \n",
      "2      OSS is, on average, of HIGHER quality than pro...  Employed full-time   \n",
      "3      The quality of OSS and closed source software ...  Employed full-time   \n",
      "4      The quality of OSS and closed source software ...  Employed full-time   \n",
      "...                                                  ...                 ...   \n",
      "11547  OSS is, on average, of HIGHER quality than pro...  Employed full-time   \n",
      "11548  The quality of OSS and closed source software ...  Employed full-time   \n",
      "11549  The quality of OSS and closed source software ...  Employed full-time   \n",
      "11550  OSS is, on average, of LOWER quality than prop...  Employed full-time   \n",
      "11551  OSS is, on average, of HIGHER quality than pro...  Employed full-time   \n",
      "\n",
      "              Country Student  \\\n",
      "0       United States      No   \n",
      "1         New Zealand      No   \n",
      "2       United States      No   \n",
      "3      United Kingdom      No   \n",
      "4           Australia      No   \n",
      "...               ...     ...   \n",
      "11547   United States      No   \n",
      "11548          Poland      No   \n",
      "11549   United States      No   \n",
      "11550     Switzerland      No   \n",
      "11551  United Kingdom      No   \n",
      "\n",
      "                                                 EdLevel  \\\n",
      "0               Bachelor’s degree (BA, BS, B.Eng., etc.)   \n",
      "1      Some college/university study without earning ...   \n",
      "2            Master’s degree (MA, MS, M.Eng., MBA, etc.)   \n",
      "3            Master’s degree (MA, MS, M.Eng., MBA, etc.)   \n",
      "4               Bachelor’s degree (BA, BS, B.Eng., etc.)   \n",
      "...                                                  ...   \n",
      "11547        Master’s degree (MA, MS, M.Eng., MBA, etc.)   \n",
      "11548        Master’s degree (MA, MS, M.Eng., MBA, etc.)   \n",
      "11549        Master’s degree (MA, MS, M.Eng., MBA, etc.)   \n",
      "11550  Secondary school (e.g. American high school, G...   \n",
      "11551          Other doctoral degree (Ph.D, Ed.D., etc.)   \n",
      "\n",
      "                                          UndergradMajor  ...  \\\n",
      "0      Computer science, computer engineering, or sof...  ...   \n",
      "1      Computer science, computer engineering, or sof...  ...   \n",
      "2      Computer science, computer engineering, or sof...  ...   \n",
      "3                                                    NaN  ...   \n",
      "4      Computer science, computer engineering, or sof...  ...   \n",
      "...                                                  ...  ...   \n",
      "11547  Computer science, computer engineering, or sof...  ...   \n",
      "11548  Computer science, computer engineering, or sof...  ...   \n",
      "11549  Computer science, computer engineering, or sof...  ...   \n",
      "11550                                                NaN  ...   \n",
      "11551  A natural science (ex. biology, chemistry, phy...  ...   \n",
      "\n",
      "                                  WelcomeChange  \\\n",
      "0       Just as welcome now as I felt last year   \n",
      "1       Just as welcome now as I felt last year   \n",
      "2      Somewhat more welcome now than last year   \n",
      "3       Just as welcome now as I felt last year   \n",
      "4       Just as welcome now as I felt last year   \n",
      "...                                         ...   \n",
      "11547   Just as welcome now as I felt last year   \n",
      "11548     A lot more welcome now than last year   \n",
      "11549     A lot more welcome now than last year   \n",
      "11550  Somewhat less welcome now than last year   \n",
      "11551   Just as welcome now as I felt last year   \n",
      "\n",
      "                                            SONewContent   Age Gender Trans  \\\n",
      "0      Tech articles written by other developers;Indu...  22.0    Man    No   \n",
      "1                                                    NaN  23.0    Man    No   \n",
      "2      Tech articles written by other developers;Cour...  28.0    Man    No   \n",
      "3      Tech articles written by other developers;Indu...  26.0    Man    No   \n",
      "4      Tech articles written by other developers;Indu...  29.0    Man    No   \n",
      "...                                                  ...   ...    ...   ...   \n",
      "11547  Tech articles written by other developers;Cour...  36.0    Man    No   \n",
      "11548  Tech articles written by other developers;Tech...  25.0    Man    No   \n",
      "11549  Tech articles written by other developers;Indu...  34.0    Man    No   \n",
      "11550                                                NaN  25.0    Man    No   \n",
      "11551  Tech articles written by other developers;Tech...  30.0    Man    No   \n",
      "\n",
      "                     Sexuality                              Ethnicity  \\\n",
      "0      Straight / Heterosexual           White or of European descent   \n",
      "1                     Bisexual           White or of European descent   \n",
      "2      Straight / Heterosexual           White or of European descent   \n",
      "3      Straight / Heterosexual           White or of European descent   \n",
      "4      Straight / Heterosexual  Hispanic or Latino/Latina;Multiracial   \n",
      "...                        ...                                    ...   \n",
      "11547  Straight / Heterosexual           White or of European descent   \n",
      "11548  Straight / Heterosexual           White or of European descent   \n",
      "11549  Straight / Heterosexual           White or of European descent   \n",
      "11550  Straight / Heterosexual           White or of European descent   \n",
      "11551                 Bisexual           White or of European descent   \n",
      "\n",
      "      Dependents           SurveyLength                  SurveyEase  \n",
      "0             No  Appropriate in length                        Easy  \n",
      "1             No  Appropriate in length  Neither easy nor difficult  \n",
      "2            Yes  Appropriate in length                        Easy  \n",
      "3             No  Appropriate in length  Neither easy nor difficult  \n",
      "4             No  Appropriate in length                        Easy  \n",
      "...          ...                    ...                         ...  \n",
      "11547         No  Appropriate in length                   Difficult  \n",
      "11548         No  Appropriate in length  Neither easy nor difficult  \n",
      "11549        Yes               Too long                        Easy  \n",
      "11550         No  Appropriate in length                        Easy  \n",
      "11551         No  Appropriate in length                        Easy  \n",
      "\n",
      "[11552 rows x 85 columns]\n"
     ]
    }
   ],
   "source": [
    "df['WorkLoc'].fillna(most_frequent_workloc, inplace=True)\n",
    "print(df)\n"
   ]
  },
  {
   "cell_type": "markdown",
   "metadata": {},
   "source": [
    "After imputation there should ideally not be any empty rows in the WorkLoc column.\n"
   ]
  },
  {
   "cell_type": "markdown",
   "metadata": {},
   "source": [
    "Verify if imputing was successful.\n"
   ]
  },
  {
   "cell_type": "code",
   "execution_count": 20,
   "metadata": {
    "tags": []
   },
   "outputs": [
    {
     "name": "stdout",
     "output_type": "stream",
     "text": [
      "Empty DataFrame\n",
      "Columns: [Respondent, MainBranch, Hobbyist, OpenSourcer, OpenSource, Employment, Country, Student, EdLevel, UndergradMajor, EduOther, OrgSize, DevType, YearsCode, Age1stCode, YearsCodePro, CareerSat, JobSat, MgrIdiot, MgrMoney, MgrWant, JobSeek, LastHireDate, LastInt, FizzBuzz, JobFactors, ResumeUpdate, CurrencySymbol, CurrencyDesc, CompTotal, CompFreq, ConvertedComp, WorkWeekHrs, WorkPlan, WorkChallenge, WorkRemote, WorkLoc, ImpSyn, CodeRev, CodeRevHrs, UnitTests, PurchaseHow, PurchaseWhat, LanguageWorkedWith, LanguageDesireNextYear, DatabaseWorkedWith, DatabaseDesireNextYear, PlatformWorkedWith, PlatformDesireNextYear, WebFrameWorkedWith, WebFrameDesireNextYear, MiscTechWorkedWith, MiscTechDesireNextYear, DevEnviron, OpSys, Containers, BlockchainOrg, BlockchainIs, BetterLife, ITperson, OffOn, SocialMedia, Extraversion, ScreenName, SOVisit1st, SOVisitFreq, SOVisitTo, SOFindAnswer, SOTimeSaved, SOHowMuchTime, SOAccount, SOPartFreq, SOJobs, EntTeams, SOComm, WelcomeChange, SONewContent, Age, Gender, Trans, Sexuality, Ethnicity, Dependents, SurveyLength, SurveyEase]\n",
      "Index: []\n",
      "\n",
      "[0 rows x 85 columns]\n"
     ]
    }
   ],
   "source": [
    "remaining_empty_rows = df[df['WorkLoc'].isnull()]\n",
    "print(remaining_empty_rows)"
   ]
  },
  {
   "cell_type": "markdown",
   "metadata": {},
   "source": [
    "## Normalizing data\n"
   ]
  },
  {
   "cell_type": "markdown",
   "metadata": {},
   "source": [
    "There are two columns in the dataset that talk about compensation.\n",
    "\n",
    "One is \"CompFreq\". This column shows how often a developer is paid (Yearly, Monthly, Weekly).\n",
    "\n",
    "The other is \"CompTotal\". This column talks about how much the developer is paid per Year, Month, or Week depending upon his/her \"CompFreq\". \n",
    "\n",
    "This makes it difficult to compare the total compensation of the developers.\n",
    "\n",
    "In this section you will create a new column called 'NormalizedAnnualCompensation' which contains the 'Annual Compensation' irrespective of the 'CompFreq'.\n",
    "\n",
    "Once this column is ready, it makes comparison of salaries easy.\n"
   ]
  },
  {
   "cell_type": "markdown",
   "metadata": {},
   "source": [
    "<hr>\n"
   ]
  },
  {
   "cell_type": "markdown",
   "metadata": {},
   "source": [
    "List out the various categories in the column 'CompFreq'\n"
   ]
  },
  {
   "cell_type": "code",
   "execution_count": 22,
   "metadata": {
    "tags": []
   },
   "outputs": [
    {
     "name": "stdout",
     "output_type": "stream",
     "text": [
      "Categories in 'CompFreq' column: ['Yearly' 'Monthly' 'Weekly' nan]\n"
     ]
    }
   ],
   "source": [
    "compfreq_categories = df['CompFreq'].unique()\n",
    "print(\"Categories in 'CompFreq' column:\", compfreq_categories)\n"
   ]
  },
  {
   "cell_type": "markdown",
   "metadata": {},
   "source": [
    "Create a new column named 'NormalizedAnnualCompensation'. Use the hint given below if needed.\n"
   ]
  },
  {
   "cell_type": "markdown",
   "metadata": {},
   "source": [
    "Double click to see the **Hint**.\n",
    "\n",
    "<!--\n",
    "\n",
    "Use the below logic to arrive at the values for the column NormalizedAnnualCompensation.\n",
    "\n",
    "If the CompFreq is Yearly then use the exising value in CompTotal\n",
    "If the CompFreq is Monthly then multiply the value in CompTotal with 12 (months in an year)\n",
    "If the CompFreq is Weekly then multiply the value in CompTotal with 52 (weeks in an year)\n",
    "\n",
    "-->\n"
   ]
  },
  {
   "cell_type": "code",
   "execution_count": 23,
   "metadata": {
    "tags": []
   },
   "outputs": [
    {
     "name": "stdout",
     "output_type": "stream",
     "text": [
      "DataFrame with 'NormalizedAnnualCompensation' column:\n",
      "       Respondent                      MainBranch Hobbyist  \\\n",
      "0               4  I am a developer by profession       No   \n",
      "1               9  I am a developer by profession      Yes   \n",
      "2              13  I am a developer by profession      Yes   \n",
      "3              16  I am a developer by profession      Yes   \n",
      "4              17  I am a developer by profession      Yes   \n",
      "...           ...                             ...      ...   \n",
      "11547       25136  I am a developer by profession      Yes   \n",
      "11548       25137  I am a developer by profession      Yes   \n",
      "11549       25138  I am a developer by profession      Yes   \n",
      "11550       25141  I am a developer by profession      Yes   \n",
      "11551       25142  I am a developer by profession      Yes   \n",
      "\n",
      "                                             OpenSourcer  \\\n",
      "0                                                  Never   \n",
      "1                             Once a month or more often   \n",
      "2      Less than once a month but more than once per ...   \n",
      "3                                                  Never   \n",
      "4      Less than once a month but more than once per ...   \n",
      "...                                                  ...   \n",
      "11547                                              Never   \n",
      "11548                                              Never   \n",
      "11549                            Less than once per year   \n",
      "11550  Less than once a month but more than once per ...   \n",
      "11551  Less than once a month but more than once per ...   \n",
      "\n",
      "                                              OpenSource          Employment  \\\n",
      "0      The quality of OSS and closed source software ...  Employed full-time   \n",
      "1      The quality of OSS and closed source software ...  Employed full-time   \n",
      "2      OSS is, on average, of HIGHER quality than pro...  Employed full-time   \n",
      "3      The quality of OSS and closed source software ...  Employed full-time   \n",
      "4      The quality of OSS and closed source software ...  Employed full-time   \n",
      "...                                                  ...                 ...   \n",
      "11547  OSS is, on average, of HIGHER quality than pro...  Employed full-time   \n",
      "11548  The quality of OSS and closed source software ...  Employed full-time   \n",
      "11549  The quality of OSS and closed source software ...  Employed full-time   \n",
      "11550  OSS is, on average, of LOWER quality than prop...  Employed full-time   \n",
      "11551  OSS is, on average, of HIGHER quality than pro...  Employed full-time   \n",
      "\n",
      "              Country Student  \\\n",
      "0       United States      No   \n",
      "1         New Zealand      No   \n",
      "2       United States      No   \n",
      "3      United Kingdom      No   \n",
      "4           Australia      No   \n",
      "...               ...     ...   \n",
      "11547   United States      No   \n",
      "11548          Poland      No   \n",
      "11549   United States      No   \n",
      "11550     Switzerland      No   \n",
      "11551  United Kingdom      No   \n",
      "\n",
      "                                                 EdLevel  \\\n",
      "0               Bachelor’s degree (BA, BS, B.Eng., etc.)   \n",
      "1      Some college/university study without earning ...   \n",
      "2            Master’s degree (MA, MS, M.Eng., MBA, etc.)   \n",
      "3            Master’s degree (MA, MS, M.Eng., MBA, etc.)   \n",
      "4               Bachelor’s degree (BA, BS, B.Eng., etc.)   \n",
      "...                                                  ...   \n",
      "11547        Master’s degree (MA, MS, M.Eng., MBA, etc.)   \n",
      "11548        Master’s degree (MA, MS, M.Eng., MBA, etc.)   \n",
      "11549        Master’s degree (MA, MS, M.Eng., MBA, etc.)   \n",
      "11550  Secondary school (e.g. American high school, G...   \n",
      "11551          Other doctoral degree (Ph.D, Ed.D., etc.)   \n",
      "\n",
      "                                          UndergradMajor  ...  \\\n",
      "0      Computer science, computer engineering, or sof...  ...   \n",
      "1      Computer science, computer engineering, or sof...  ...   \n",
      "2      Computer science, computer engineering, or sof...  ...   \n",
      "3                                                    NaN  ...   \n",
      "4      Computer science, computer engineering, or sof...  ...   \n",
      "...                                                  ...  ...   \n",
      "11547  Computer science, computer engineering, or sof...  ...   \n",
      "11548  Computer science, computer engineering, or sof...  ...   \n",
      "11549  Computer science, computer engineering, or sof...  ...   \n",
      "11550                                                NaN  ...   \n",
      "11551  A natural science (ex. biology, chemistry, phy...  ...   \n",
      "\n",
      "                                            SONewContent   Age Gender Trans  \\\n",
      "0      Tech articles written by other developers;Indu...  22.0    Man    No   \n",
      "1                                                    NaN  23.0    Man    No   \n",
      "2      Tech articles written by other developers;Cour...  28.0    Man    No   \n",
      "3      Tech articles written by other developers;Indu...  26.0    Man    No   \n",
      "4      Tech articles written by other developers;Indu...  29.0    Man    No   \n",
      "...                                                  ...   ...    ...   ...   \n",
      "11547  Tech articles written by other developers;Cour...  36.0    Man    No   \n",
      "11548  Tech articles written by other developers;Tech...  25.0    Man    No   \n",
      "11549  Tech articles written by other developers;Indu...  34.0    Man    No   \n",
      "11550                                                NaN  25.0    Man    No   \n",
      "11551  Tech articles written by other developers;Tech...  30.0    Man    No   \n",
      "\n",
      "                     Sexuality                              Ethnicity  \\\n",
      "0      Straight / Heterosexual           White or of European descent   \n",
      "1                     Bisexual           White or of European descent   \n",
      "2      Straight / Heterosexual           White or of European descent   \n",
      "3      Straight / Heterosexual           White or of European descent   \n",
      "4      Straight / Heterosexual  Hispanic or Latino/Latina;Multiracial   \n",
      "...                        ...                                    ...   \n",
      "11547  Straight / Heterosexual           White or of European descent   \n",
      "11548  Straight / Heterosexual           White or of European descent   \n",
      "11549  Straight / Heterosexual           White or of European descent   \n",
      "11550  Straight / Heterosexual           White or of European descent   \n",
      "11551                 Bisexual           White or of European descent   \n",
      "\n",
      "      Dependents           SurveyLength                  SurveyEase  \\\n",
      "0             No  Appropriate in length                        Easy   \n",
      "1             No  Appropriate in length  Neither easy nor difficult   \n",
      "2            Yes  Appropriate in length                        Easy   \n",
      "3             No  Appropriate in length  Neither easy nor difficult   \n",
      "4             No  Appropriate in length                        Easy   \n",
      "...          ...                    ...                         ...   \n",
      "11547         No  Appropriate in length                   Difficult   \n",
      "11548         No  Appropriate in length  Neither easy nor difficult   \n",
      "11549        Yes               Too long                        Easy   \n",
      "11550         No  Appropriate in length                        Easy   \n",
      "11551         No  Appropriate in length                        Easy   \n",
      "\n",
      "      NormalizedAnnualCompensation  \n",
      "0                          61000.0  \n",
      "1                         138000.0  \n",
      "2                          90000.0  \n",
      "3                         348000.0  \n",
      "4                          90000.0  \n",
      "...                            ...  \n",
      "11547                     130000.0  \n",
      "11548                      74400.0  \n",
      "11549                     105000.0  \n",
      "11550                      80000.0  \n",
      "11551                          NaN  \n",
      "\n",
      "[11552 rows x 86 columns]\n"
     ]
    }
   ],
   "source": [
    "df['NormalizedAnnualCompensation'] = df.apply(lambda row: row['CompTotal'] * 12 if row['CompFreq'] == 'Monthly' else (row['CompTotal'] * 52 if row['CompFreq'] == 'Weekly' else row['CompTotal']), axis=1)\n",
    "print(\"DataFrame with 'NormalizedAnnualCompensation' column:\")\n",
    "print(df)"
   ]
  },
  {
   "cell_type": "code",
   "execution_count": 24,
   "metadata": {
    "tags": []
   },
   "outputs": [
    {
     "name": "stdout",
     "output_type": "stream",
     "text": [
      "Number of Respondents Being Paid Yearly after Removing Duplicates: 6073\n"
     ]
    }
   ],
   "source": [
    "df_no_duplicates = df.drop_duplicates()\n",
    "\n",
    "# Step 2: Count the number of respondents being paid yearly\n",
    "yearly_paid_count = df_no_duplicates[df_no_duplicates['CompFreq'] == 'Yearly'].shape[0]\n",
    "\n",
    "# Display the number of respondents being paid yearly\n",
    "print(\"Number of Respondents Being Paid Yearly after Removing Duplicates:\", yearly_paid_count)"
   ]
  },
  {
   "cell_type": "code",
   "execution_count": 25,
   "metadata": {
    "tags": []
   },
   "outputs": [
    {
     "name": "stdout",
     "output_type": "stream",
     "text": [
      "Median NormalizedAnnualCompensation: 100000.0\n"
     ]
    }
   ],
   "source": [
    "median_normalized_compensation = df['NormalizedAnnualCompensation'].median()\n",
    "\n",
    "# Display the median\n",
    "print(\"Median NormalizedAnnualCompensation:\", median_normalized_compensation)"
   ]
  },
  {
   "cell_type": "markdown",
   "metadata": {},
   "source": [
    "## Authors\n"
   ]
  },
  {
   "cell_type": "markdown",
   "metadata": {},
   "source": [
    "Ramesh Sannareddy\n"
   ]
  },
  {
   "cell_type": "markdown",
   "metadata": {},
   "source": [
    "### Other Contributors\n"
   ]
  },
  {
   "cell_type": "markdown",
   "metadata": {},
   "source": [
    "Rav Ahuja\n"
   ]
  },
  {
   "cell_type": "markdown",
   "metadata": {},
   "source": [
    "## Change Log\n"
   ]
  },
  {
   "cell_type": "markdown",
   "metadata": {},
   "source": [
    "| Date (YYYY-MM-DD) | Version | Changed By        | Change Description                 |\n",
    "| ----------------- | ------- | ----------------- | ---------------------------------- |\n",
    "| 2020-10-17        | 0.1     | Ramesh Sannareddy | Created initial version of the lab |\n"
   ]
  },
  {
   "cell_type": "markdown",
   "metadata": {},
   "source": [
    " Copyright © 2020 IBM Corporation. This notebook and its source code are released under the terms of the [MIT License](https://cognitiveclass.ai/mit-license?utm_medium=Exinfluencer&utm_source=Exinfluencer&utm_content=000026UJ&utm_term=10006555&utm_id=NA-SkillsNetwork-Channel-SkillsNetworkCoursesIBMDA0321ENSkillsNetwork928-2022-01-01&cm_mmc=Email_Newsletter-_-Developer_Ed%2BTech-_-WW_WW-_-SkillsNetwork-Courses-IBM-DA0321EN-SkillsNetwork-21426264&cm_mmca1=000026UJ&cm_mmca2=10006555&cm_mmca3=M12345678&cvosrc=email.Newsletter.M12345678&cvo_campaign=000026UJ).\n"
   ]
  }
 ],
 "metadata": {
  "kernelspec": {
   "display_name": "Python",
   "language": "python",
   "name": "conda-env-python-py"
  },
  "language_info": {
   "codemirror_mode": {
    "name": "ipython",
    "version": 3
   },
   "file_extension": ".py",
   "mimetype": "text/x-python",
   "name": "python",
   "nbconvert_exporter": "python",
   "pygments_lexer": "ipython3",
   "version": "3.7.12"
  }
 },
 "nbformat": 4,
 "nbformat_minor": 4
}
